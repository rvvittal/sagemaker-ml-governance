{
 "cells": [
  {
   "cell_type": "markdown",
   "metadata": {},
   "source": [
    "# Amazon SageMaker Model Governance - Model Cards\n"
   ]
  },
  {
   "attachments": {},
   "cell_type": "markdown",
   "metadata": {},
   "source": [
    "---\n",
    "\n",
    "This notebook's CI test result for us-west-2 is as follows. CI test results in other regions can be found at the end of the notebook. \n",
    "\n",
    "![This us-west-2 badge failed to load. Check your device's internet connectivity, otherwise the service is currently unavailable](https://prod.us-west-2.tcx-beacon.docs.aws.dev/sagemaker-nb/us-west-2/sagemaker_model_governance|model_card.ipynb)\n",
    "\n",
    "---"
   ]
  },
  {
   "cell_type": "markdown",
   "metadata": {},
   "source": [
    "This notebook walks you through the features of Amazon SageMaker Model Cards. For more information, see [Model Cards](https://docs.aws.amazon.com/sagemaker/latest/dg/model-cards.html) in the _Amazon SageMaker Developer Guide_.\n",
    "\n",
    "Amazon SageMaker Model Cards give you the ability to create a centralized, customizable fact-sheet to document critical details about your machine learning (ML) models. Use model cards to keep a record of model information, such as intended uses, risk ratings, training details, evaluation metrics, and more for streamlined governance and reporting. \n",
    "\n",
    "In this example, you create a binary classification model along with a model card to document model details along the way. Learn how to create, read, update, delete, and export model cards using the Amazon SageMaker Python SDK.\n",
    "\n",
    "---\n",
    "## Contents\n",
    "\n",
    "1. [Setup](#Setup)\n",
    "1. [Prepare a Binary Classification Model](#Model)\n",
    "1. [Create Model Card](#ModelCard)\n",
    "1. [Update Model Card](#Update)\n",
    "1. [Load Model Card](#Load)\n",
    "1. [List Model Card History](#ListHistory)\n",
    "1. [Export Model Card](#Export)\n",
    "1. [Cleanup](#Cleanup)\n",
    "\n",
    "---\n",
    "## Setup\n",
    "To begin, you must specify the following information:\n",
    "- The IAM role ARN used to give SageMaker training and hosting access to your data. The following example uses the SageMaker execution role.\n",
    "- The SageMaker session used to manage interactions with Amazon SageMaker Model Card API methods.\n",
    "- The S3 URI (`bucket` and `prefix`) where you want to store training artifacts, models, and any exported model card PDFs. This S3 bucket should be in the same Region as your Notebook Instance, training, and hosting configurations. The following example uses the default SageMaker S3 bucket and creates a default SageMaker S3 bucket if one does not already exist.\n",
    "- The S3 session used to manage interactions with Amazon S3 storage."
   ]
  },
  {
   "cell_type": "code",
   "execution_count": 1,
   "metadata": {},
   "outputs": [
    {
     "name": "stdout",
     "output_type": "stream",
     "text": [
      "Requirement already satisfied: sagemaker in /opt/conda/lib/python3.10/site-packages (2.214.3)\n",
      "Requirement already satisfied: attrs<24,>=23.1.0 in /opt/conda/lib/python3.10/site-packages (from sagemaker) (23.2.0)\n",
      "Requirement already satisfied: boto3<2.0,>=1.33.3 in /opt/conda/lib/python3.10/site-packages (from sagemaker) (1.34.80)\n",
      "Requirement already satisfied: cloudpickle==2.2.1 in /opt/conda/lib/python3.10/site-packages (from sagemaker) (2.2.1)\n",
      "Requirement already satisfied: google-pasta in /opt/conda/lib/python3.10/site-packages (from sagemaker) (0.2.0)\n",
      "Requirement already satisfied: numpy<2.0,>=1.9.0 in /opt/conda/lib/python3.10/site-packages (from sagemaker) (1.26.4)\n",
      "Requirement already satisfied: protobuf<5.0,>=3.12 in /opt/conda/lib/python3.10/site-packages (from sagemaker) (4.25.3)\n",
      "Requirement already satisfied: smdebug-rulesconfig==1.0.1 in /opt/conda/lib/python3.10/site-packages (from sagemaker) (1.0.1)\n",
      "Requirement already satisfied: importlib-metadata<7.0,>=1.4.0 in /opt/conda/lib/python3.10/site-packages (from sagemaker) (6.11.0)\n",
      "Requirement already satisfied: packaging>=20.0 in /opt/conda/lib/python3.10/site-packages (from sagemaker) (24.0)\n",
      "Requirement already satisfied: pandas in /opt/conda/lib/python3.10/site-packages (from sagemaker) (2.2.1)\n",
      "Requirement already satisfied: pathos in /opt/conda/lib/python3.10/site-packages (from sagemaker) (0.3.2)\n",
      "Requirement already satisfied: schema in /opt/conda/lib/python3.10/site-packages (from sagemaker) (0.7.5)\n",
      "Requirement already satisfied: PyYAML~=6.0 in /opt/conda/lib/python3.10/site-packages (from sagemaker) (6.0.1)\n",
      "Requirement already satisfied: jsonschema in /opt/conda/lib/python3.10/site-packages (from sagemaker) (4.21.1)\n",
      "Requirement already satisfied: platformdirs in /opt/conda/lib/python3.10/site-packages (from sagemaker) (4.2.0)\n",
      "Requirement already satisfied: tblib<4,>=1.7.0 in /opt/conda/lib/python3.10/site-packages (from sagemaker) (3.0.0)\n",
      "Requirement already satisfied: urllib3<3.0.0,>=1.26.8 in /opt/conda/lib/python3.10/site-packages (from sagemaker) (2.2.1)\n",
      "Requirement already satisfied: requests in /opt/conda/lib/python3.10/site-packages (from sagemaker) (2.31.0)\n",
      "Requirement already satisfied: docker in /opt/conda/lib/python3.10/site-packages (from sagemaker) (7.0.0)\n",
      "Requirement already satisfied: tqdm in /opt/conda/lib/python3.10/site-packages (from sagemaker) (4.66.2)\n",
      "Requirement already satisfied: psutil in /opt/conda/lib/python3.10/site-packages (from sagemaker) (5.9.8)\n",
      "Requirement already satisfied: botocore<1.35.0,>=1.34.80 in /opt/conda/lib/python3.10/site-packages (from boto3<2.0,>=1.33.3->sagemaker) (1.34.80)\n",
      "Requirement already satisfied: jmespath<2.0.0,>=0.7.1 in /opt/conda/lib/python3.10/site-packages (from boto3<2.0,>=1.33.3->sagemaker) (1.0.1)\n",
      "Requirement already satisfied: s3transfer<0.11.0,>=0.10.0 in /opt/conda/lib/python3.10/site-packages (from boto3<2.0,>=1.33.3->sagemaker) (0.10.1)\n",
      "Requirement already satisfied: zipp>=0.5 in /opt/conda/lib/python3.10/site-packages (from importlib-metadata<7.0,>=1.4.0->sagemaker) (3.18.1)\n",
      "Requirement already satisfied: charset-normalizer<4,>=2 in /opt/conda/lib/python3.10/site-packages (from requests->sagemaker) (3.3.2)\n",
      "Requirement already satisfied: idna<4,>=2.5 in /opt/conda/lib/python3.10/site-packages (from requests->sagemaker) (3.6)\n",
      "Requirement already satisfied: certifi>=2017.4.17 in /opt/conda/lib/python3.10/site-packages (from requests->sagemaker) (2024.2.2)\n",
      "Requirement already satisfied: six in /opt/conda/lib/python3.10/site-packages (from google-pasta->sagemaker) (1.16.0)\n",
      "Requirement already satisfied: jsonschema-specifications>=2023.03.6 in /opt/conda/lib/python3.10/site-packages (from jsonschema->sagemaker) (2023.12.1)\n",
      "Requirement already satisfied: referencing>=0.28.4 in /opt/conda/lib/python3.10/site-packages (from jsonschema->sagemaker) (0.34.0)\n",
      "Requirement already satisfied: rpds-py>=0.7.1 in /opt/conda/lib/python3.10/site-packages (from jsonschema->sagemaker) (0.18.0)\n",
      "Requirement already satisfied: python-dateutil>=2.8.2 in /opt/conda/lib/python3.10/site-packages (from pandas->sagemaker) (2.9.0.post0)\n",
      "Requirement already satisfied: pytz>=2020.1 in /opt/conda/lib/python3.10/site-packages (from pandas->sagemaker) (2023.3)\n",
      "Requirement already satisfied: tzdata>=2022.7 in /opt/conda/lib/python3.10/site-packages (from pandas->sagemaker) (2024.1)\n",
      "Requirement already satisfied: ppft>=1.7.6.8 in /opt/conda/lib/python3.10/site-packages (from pathos->sagemaker) (1.7.6.8)\n",
      "Requirement already satisfied: dill>=0.3.8 in /opt/conda/lib/python3.10/site-packages (from pathos->sagemaker) (0.3.8)\n",
      "Requirement already satisfied: pox>=0.3.4 in /opt/conda/lib/python3.10/site-packages (from pathos->sagemaker) (0.3.4)\n",
      "Requirement already satisfied: multiprocess>=0.70.16 in /opt/conda/lib/python3.10/site-packages (from pathos->sagemaker) (0.70.16)\n",
      "Requirement already satisfied: contextlib2>=0.5.5 in /opt/conda/lib/python3.10/site-packages (from schema->sagemaker) (21.6.0)\n",
      "\u001b[31mERROR: Could not install packages due to an OSError: [Errno 2] No such file or directory: '/opt/conda/lib/python3.10/site-packages/pytz-2023.3.dist-info/METADATA'\n",
      "\u001b[0m\u001b[31m\n",
      "\u001b[0m"
     ]
    }
   ],
   "source": [
    "! pip install --upgrade sagemaker"
   ]
  },
  {
   "cell_type": "code",
   "execution_count": 2,
   "metadata": {},
   "outputs": [
    {
     "name": "stdout",
     "output_type": "stream",
     "text": [
      "sagemaker.config INFO - Not applying SDK defaults from location: /etc/xdg/sagemaker/config.yaml\n",
      "sagemaker.config INFO - Not applying SDK defaults from location: /home/sagemaker-user/.config/sagemaker/config.yaml\n"
     ]
    }
   ],
   "source": [
    "import boto3\n",
    "from sagemaker.session import Session\n",
    "from sagemaker import get_execution_role\n",
    "\n",
    "role = get_execution_role()\n",
    "\n",
    "sagemaker_session = Session()\n",
    "\n",
    "bucket = sagemaker_session.default_bucket()\n",
    "prefix = \"from-idea-to-prod-model-card\"\n",
    "\n",
    "region = sagemaker_session.boto_region_name\n",
    "s3 = boto3.client(\"s3\", region_name=region)"
   ]
  },
  {
   "cell_type": "markdown",
   "metadata": {},
   "source": [
    "Next, import the necessary Python libraries."
   ]
  },
  {
   "cell_type": "code",
   "execution_count": 3,
   "metadata": {},
   "outputs": [],
   "source": [
    "import io\n",
    "import os\n",
    "import numpy as np\n",
    "from six.moves.urllib.parse import urlparse\n",
    "from pprint import pprint\n",
    "import boto3\n",
    "import sagemaker\n",
    "from sagemaker.image_uris import retrieve\n",
    "import sagemaker.amazon.common as smac\n",
    "from sagemaker.model_card import (\n",
    "    ModelCard,\n",
    "    ModelOverview,\n",
    "    ObjectiveFunction,\n",
    "    Function,\n",
    "    TrainingDetails,\n",
    "    IntendedUses,\n",
    "    BusinessDetails,\n",
    "    EvaluationJob,\n",
    "    AdditionalInformation,\n",
    "    Metric,\n",
    "    MetricGroup,\n",
    "    ModelCardStatusEnum,\n",
    "    ObjectiveFunctionEnum,\n",
    "    FacetEnum,\n",
    "    RiskRatingEnum,\n",
    "    MetricTypeEnum,\n",
    "    EvaluationMetricTypeEnum,\n",
    ")"
   ]
  },
  {
   "cell_type": "markdown",
   "metadata": {},
   "source": [
    "### 1. Create Estimator for training job\n",
    "Model already trained in SageMaker "
   ]
  },
  {
   "cell_type": "code",
   "execution_count": 6,
   "metadata": {},
   "outputs": [
    {
     "name": "stdout",
     "output_type": "stream",
     "text": [
      "\n",
      "2024-04-09 17:41:33 Starting - Preparing the instances for training\n",
      "2024-04-09 17:41:33 Downloading - Downloading the training image\n",
      "2024-04-09 17:41:33 Training - Training image download completed. Training in progress.\n",
      "2024-04-09 17:41:33 Uploading - Uploading generated training model\n",
      "2024-04-09 17:41:33 Completed - Training job completed\n",
      "\n",
      "s3uri_model = s3://sagemaker-us-east-1-624178040188/from-idea-to-prod/xgboost/output/from-idea-to-prod-train-g7gwxxamjlaz-AHi4F06BJy/output/model.tar.gz\n"
     ]
    }
   ],
   "source": [
    "#setup training estimator\n",
    "training_job_name = '<<enter your training job name>>'\n",
    "estimator = sagemaker.estimator.Estimator.attach(training_job_name)\n",
    "s3uri_model = estimator.model_data\n",
    "print(\"\\ns3uri_model =\",s3uri_model)\n"
   ]
  },
  {
   "cell_type": "markdown",
   "metadata": {},
   "source": [
    "### 2. Create a model"
   ]
  },
  {
   "cell_type": "code",
   "execution_count": 7,
   "metadata": {},
   "outputs": [
    {
     "name": "stderr",
     "output_type": "stream",
     "text": [
      "INFO:sagemaker:Creating model with name: from-idea-to-prod-model\n"
     ]
    },
    {
     "name": "stdout",
     "output_type": "stream",
     "text": [
      "Model name: from-idea-to-prod-model\n"
     ]
    }
   ],
   "source": [
    "model_name = \"from-idea-to-prod-model-<<enter version i.e. V1>>\"\n",
    "model = estimator.create_model(name=model_name)\n",
    "container_def = model.prepare_container_def()\n",
    "sagemaker_session.create_model(model_name, role, container_def)\n",
    "print(f\"Model name: {model_name}\")"
   ]
  },
  {
   "cell_type": "markdown",
   "metadata": {},
   "source": [
    "---\n",
    "## Create Model Card<a name=\"ModelCard\"></a>\n",
    "Document your binary classification model details in an Amazon SageMaker Model Card using the SageMaker Python SDK.\n",
    "\n",
    "### 1. Auto-collect model details\n",
    "Automatically collect basic model information like model ID, training environment, and the model output S3 URI. Add additional model information such as a description, problem type, algorithm type, model creator, and model owner."
   ]
  },
  {
   "cell_type": "code",
   "execution_count": 8,
   "metadata": {},
   "outputs": [
    {
     "name": "stdout",
     "output_type": "stream",
     "text": [
      "Model id: arn:aws:sagemaker:us-east-1:624178040188:model/from-idea-to-prod-model\n",
      "Model training images: ['683313688378.dkr.ecr.us-east-1.amazonaws.com/sagemaker-xgboost:1.5-1']\n",
      "Model: ['s3://sagemaker-us-east-1-624178040188/from-idea-to-prod/xgboost/output/from-idea-to-prod-train-g7gwxxamjlaz-AHi4F06BJy/output/model.tar.gz']\n"
     ]
    }
   ],
   "source": [
    "model_overview = ModelOverview.from_model_name(\n",
    "    model_name=model_name,\n",
    "    sagemaker_session=sagemaker_session,\n",
    "    model_description=\"This is an example binary classification model used for a Python SDK demo of Amazon SageMaker Model Cards.\",\n",
    "    problem_type=\"Binary Classification\",\n",
    "    algorithm_type=\"Logistic Regression\",\n",
    "    model_creator=\"DEMO-ModelCard\",\n",
    "    model_owner=\"DEMO-ModelCard\",\n",
    ")\n",
    "print(f\"Model id: {model_overview.model_id}\")\n",
    "print(f\"Model training images: {model_overview.inference_environment.container_image}\")\n",
    "print(f\"Model: {model_overview.model_artifact}\")"
   ]
  },
  {
   "cell_type": "markdown",
   "metadata": {},
   "source": [
    "### 2. Auto-collect training details\n",
    "Automatically collect basic training information like training ID, training environment, and training metrics. Add additional training information such as objective function details and training observations."
   ]
  },
  {
   "cell_type": "code",
   "execution_count": 9,
   "metadata": {},
   "outputs": [
    {
     "name": "stdout",
     "output_type": "stream",
     "text": [
      "Training job id: arn:aws:sagemaker:us-east-1:624178040188:training-job/from-idea-to-prod-train-g7gwxxamjlaz-AHi4F06BJy\n",
      "Training image: ['683313688378.dkr.ecr.us-east-1.amazonaws.com/sagemaker-xgboost:1.5-1']\n",
      "Training Metrics: \n",
      "[{'name': 'validation:auc', 'value': 0.771399974822998},\n",
      " {'name': 'train:auc', 'value': 0.7876999974250793}]\n"
     ]
    }
   ],
   "source": [
    "objective_function = ObjectiveFunction(\n",
    "    function=Function(\n",
    "        function=ObjectiveFunctionEnum.MINIMIZE,\n",
    "        facet=FacetEnum.LOSS,\n",
    "    ),\n",
    "    notes=\"This is an example objective function.\",\n",
    ")\n",
    "training_details = TrainingDetails.from_model_overview(\n",
    "    model_overview=model_overview,\n",
    "    sagemaker_session=sagemaker_session,\n",
    "    objective_function=objective_function,\n",
    "    training_observations=\"Add model training observations here.\",\n",
    ")\n",
    "print(f\"Training job id: {training_details.training_job_details.training_arn}\")\n",
    "print(\n",
    "    f\"Training image: {training_details.training_job_details.training_environment.container_image}\"\n",
    ")\n",
    "print(\"Training Metrics: \")\n",
    "pprint(\n",
    "    [\n",
    "        {\"name\": i.name, \"value\": i.value}\n",
    "        for i in training_details.training_job_details.training_metrics\n",
    "    ]\n",
    ")"
   ]
  },
  {
   "cell_type": "markdown",
   "metadata": {},
   "source": [
    "### 3. Collect evaluation details\n",
    "Add evaluation observations, datasets, and metrics."
   ]
  },
  {
   "cell_type": "code",
   "execution_count": 10,
   "metadata": {},
   "outputs": [],
   "source": [
    "manual_metric_group = MetricGroup(\n",
    "    name=\"binary classification metrics\",\n",
    "    metric_data=[Metric(name=\"accuracy\", type=MetricTypeEnum.NUMBER, value=0.5)],\n",
    ")\n",
    "example_evaluation_job = EvaluationJob(\n",
    "    name=\"Example evaluation job\",\n",
    "    evaluation_observation=\"Evaluation observations.\",\n",
    "    datasets=[\"s3://sagemaker-us-east-1-624178040188/from-idea-to-prod/xgboost/evaluation/evaluation.json\"],\n",
    "    metric_groups=[manual_metric_group],\n",
    ")\n",
    "evaluation_details = [example_evaluation_job]"
   ]
  },
  {
   "cell_type": "markdown",
   "metadata": {},
   "source": [
    "#### (Optional) 3.1 Parse metrics from existing evaluation report\n",
    "If you have existing evaluation reports generated by [SageMaker Clarify](https://docs.aws.amazon.com/sagemaker/latest/dg/clarify-processing-job-run.html) or [SageMaker Model Monitor](https://docs.aws.amazon.com/sagemaker/latest/dg/model-monitor-model-quality.html), upload them to S3 and provide an S3 URI to automatically parse evaluation metrics. To add your own generic model card evaluation report, provide a report in the [evaluation results JSON format](https://docs.aws.amazon.com/sagemaker/latest/dg/model-cards-json-schema.html). See the example JSON files in the `./example_metrics` folder for reference.\n",
    "##### Collect metrics from a JSON format evaluation report"
   ]
  },
  {
   "cell_type": "code",
   "execution_count": 11,
   "metadata": {},
   "outputs": [],
   "source": [
    "report_type = \"clarify_bias.json\"\n",
    "example_evaluation_job.add_metric_group_from_json(\n",
    "    f\"example_metrics/{report_type}\", EvaluationMetricTypeEnum.CLARIFY_BIAS\n",
    ")"
   ]
  },
  {
   "cell_type": "markdown",
   "metadata": {},
   "source": [
    "##### Collect metrics from S3"
   ]
  },
  {
   "cell_type": "code",
   "execution_count": 12,
   "metadata": {},
   "outputs": [],
   "source": [
    "# upload metric file to s3\n",
    "with open(f\"example_metrics/{report_type}\", \"rb\") as metrics:\n",
    "    s3.upload_fileobj(\n",
    "        metrics,\n",
    "        Bucket=bucket,\n",
    "        Key=f\"{prefix}/{report_type}\",\n",
    "        ExtraArgs={\"ContentType\": \"application/json\"},\n",
    "    )\n",
    "\n",
    "metric_s3_url = f\"s3://{bucket}/{prefix}/{report_type}\"\n",
    "example_evaluation_job.add_metric_group_from_s3(\n",
    "    session=sagemaker_session.boto_session,\n",
    "    s3_url=metric_s3_url,\n",
    "    metric_type=EvaluationMetricTypeEnum.CLARIFY_BIAS,\n",
    ")"
   ]
  },
  {
   "cell_type": "markdown",
   "metadata": {},
   "source": [
    "### 4. Collect additional details\n",
    "Add the intended uses of your model and business details and any additional information that you want to include in your model card. For more information on intended uses and business details, see [Model Cards](https://docs.aws.amazon.com/sagemaker/latest/dg/model-cards.html) in the `Amazon SageMaker Developer Guide`."
   ]
  },
  {
   "cell_type": "code",
   "execution_count": 13,
   "metadata": {},
   "outputs": [],
   "source": [
    "intended_uses = IntendedUses(\n",
    "    purpose_of_model=\"Test model card.\",\n",
    "    intended_uses=\"Not used except this test.\",\n",
    "    factors_affecting_model_efficiency=\"No.\",\n",
    "    risk_rating=RiskRatingEnum.LOW,\n",
    "    explanations_for_risk_rating=\"Just an example.\",\n",
    ")\n",
    "business_details = BusinessDetails(\n",
    "    business_problem=\"The business problem that your model is used to solve.\",\n",
    "    business_stakeholders=\"The stakeholders who have the interest in the business that your model is used for.\",\n",
    "    line_of_business=\"Services that the business is offering.\",\n",
    ")\n",
    "additional_information = AdditionalInformation(\n",
    "    ethical_considerations=\"Your model ethical consideration.\",\n",
    "    caveats_and_recommendations=\"Your model's caveats and recommendations.\",\n",
    "    custom_details={\"custom details1\": \"details value\"},\n",
    ")"
   ]
  },
  {
   "cell_type": "markdown",
   "metadata": {},
   "source": [
    "### 5. Initialize a model card\n",
    "Initialize a model card with the information collected in the previous steps."
   ]
  },
  {
   "cell_type": "code",
   "execution_count": 14,
   "metadata": {},
   "outputs": [
    {
     "name": "stderr",
     "output_type": "stream",
     "text": [
      "INFO:sagemaker.model_card.model_card:Creating model card with name: from-idea-to-prod-model-card\n"
     ]
    },
    {
     "name": "stdout",
     "output_type": "stream",
     "text": [
      "Model card from-idea-to-prod-model-card is successfully created with id arn:aws:sagemaker:us-east-1:624178040188:model-card/from-idea-to-prod-model-card\n"
     ]
    }
   ],
   "source": [
    "model_card_name = \"from-idea-to-prod-model-card\"\n",
    "my_card = ModelCard(\n",
    "    name=model_card_name,\n",
    "    status=ModelCardStatusEnum.DRAFT,\n",
    "    model_overview=model_overview,\n",
    "    training_details=training_details,\n",
    "    intended_uses=intended_uses,\n",
    "    business_details=business_details,\n",
    "    evaluation_details=evaluation_details,\n",
    "    additional_information=additional_information,\n",
    "    sagemaker_session=sagemaker_session,\n",
    ")\n",
    "my_card.create()\n",
    "print(f\"Model card {my_card.name} is successfully created with id {my_card.arn}\")"
   ]
  },
  {
   "cell_type": "markdown",
   "metadata": {},
   "source": [
    "---\n",
    "## Update Model Card<a name=\"Update\"></a>\n",
    "After creating a model card, you can update the model card information. Updating a model card creates a new model card version."
   ]
  },
  {
   "cell_type": "code",
   "execution_count": 15,
   "metadata": {},
   "outputs": [
    {
     "name": "stderr",
     "output_type": "stream",
     "text": [
      "INFO:sagemaker.model_card.model_card:Updating model card: from-idea-to-prod-model-card\n",
      "INFO:sagemaker.model_card.model_card:Update model card content\n"
     ]
    },
    {
     "data": {
      "text/plain": [
       "{'content': {'ModelCardArn': 'arn:aws:sagemaker:us-east-1:624178040188:model-card/from-idea-to-prod-model-card',\n",
       "  'ResponseMetadata': {'RequestId': '013b5db2-59b3-49e3-af8e-bc44292a09ca',\n",
       "   'HTTPStatusCode': 200,\n",
       "   'HTTPHeaders': {'x-amzn-requestid': '013b5db2-59b3-49e3-af8e-bc44292a09ca',\n",
       "    'content-type': 'application/x-amz-json-1.1',\n",
       "    'content-length': '99',\n",
       "    'date': 'Tue, 09 Apr 2024 18:18:48 GMT'},\n",
       "   'RetryAttempts': 0}}}"
      ]
     },
     "execution_count": 15,
     "metadata": {},
     "output_type": "execute_result"
    }
   ],
   "source": [
    "my_card.model_overview.model_description = \"the model is updated.\"\n",
    "my_card.update()"
   ]
  },
  {
   "cell_type": "markdown",
   "metadata": {},
   "source": [
    "---\n",
    "## Load Model Card<a name=\"Load\"></a>\n",
    "Load an existing model card with the model card name."
   ]
  },
  {
   "cell_type": "code",
   "execution_count": 16,
   "metadata": {},
   "outputs": [
    {
     "name": "stderr",
     "output_type": "stream",
     "text": [
      "INFO:sagemaker.model_card.model_card:Load model card: from-idea-to-prod-model-card\n"
     ]
    },
    {
     "name": "stdout",
     "output_type": "stream",
     "text": [
      "Model id: arn:aws:sagemaker:us-east-1:624178040188:model-card/from-idea-to-prod-model-card\n",
      "Model description: the model is updated.\n"
     ]
    }
   ],
   "source": [
    "my_card2 = ModelCard.load(\n",
    "    name=model_card_name,\n",
    "    sagemaker_session=sagemaker_session,\n",
    ")\n",
    "print(f\"Model id: {my_card2.arn}\")\n",
    "print(f\"Model description: {my_card.model_overview.model_description}\")"
   ]
  },
  {
   "cell_type": "markdown",
   "metadata": {},
   "source": [
    "---\n",
    "## List Model Card History<a name=\"ListHistory\"></a>\n",
    "Track the model card history by listing historical versions."
   ]
  },
  {
   "cell_type": "code",
   "execution_count": 17,
   "metadata": {},
   "outputs": [],
   "source": [
    "history = my_card.get_version_history()\n",
    "assert len(history) == 2  # one for creation and one for update"
   ]
  },
  {
   "cell_type": "markdown",
   "metadata": {},
   "source": [
    "---\n",
    "## Export Model Card<a name=\"Export\"></a>\n",
    "Share the model card by exporting it to a PDF file.\n",
    "\n",
    "### 1. Create an export job"
   ]
  },
  {
   "cell_type": "code",
   "execution_count": 18,
   "metadata": {},
   "outputs": [
    {
     "name": "stdout",
     "output_type": "stream",
     "text": [
      "..........\r"
     ]
    },
    {
     "name": "stderr",
     "output_type": "stream",
     "text": [
      "INFO:sagemaker.model_card.model_card:Model card from-idea-to-prod-model-card is successfully exported to s3://sagemaker-us-east-1-624178040188/from-idea-to-prod-model-card/export/from-idea-to-prod-model-card/from-idea-to-prod-model-card-1712686741-041d.pdf.\n"
     ]
    },
    {
     "name": "stdout",
     "output_type": "stream",
     "text": [
      "          \r"
     ]
    }
   ],
   "source": [
    "s3_output_path = f\"s3://{bucket}/{prefix}/export\"\n",
    "pdf_s3_url = my_card.export_pdf(s3_output_path=s3_output_path)"
   ]
  },
  {
   "cell_type": "markdown",
   "metadata": {},
   "source": [
    "### (optional) List export jobs\n",
    "Check all the export jobs for this model card."
   ]
  },
  {
   "cell_type": "code",
   "execution_count": 19,
   "metadata": {},
   "outputs": [
    {
     "data": {
      "text/plain": [
       "{'ModelCardExportJobSummaries': [{'ModelCardExportJobName': 'from-idea-to-prod-model-card-1712686741-041d',\n",
       "   'ModelCardExportJobArn': 'arn:aws:sagemaker:us-east-1:624178040188:model-card/from-idea-to-prod-model-card/export-job/from-idea-to-prod-model-card-1712686741-041d',\n",
       "   'Status': 'Completed',\n",
       "   'ModelCardName': 'from-idea-to-prod-model-card',\n",
       "   'ModelCardVersion': 0,\n",
       "   'CreatedAt': datetime.datetime(2024, 4, 9, 18, 19, 1, 766000, tzinfo=tzlocal()),\n",
       "   'LastModifiedAt': datetime.datetime(2024, 4, 9, 18, 19, 2, 997000, tzinfo=tzlocal())}],\n",
       " 'ResponseMetadata': {'RequestId': '3c132b69-bdb2-44bb-ba87-608d5415760b',\n",
       "  'HTTPStatusCode': 200,\n",
       "  'HTTPHeaders': {'x-amzn-requestid': '3c132b69-bdb2-44bb-ba87-608d5415760b',\n",
       "   'content-type': 'application/x-amz-json-1.1',\n",
       "   'content-length': '422',\n",
       "   'date': 'Tue, 09 Apr 2024 18:19:13 GMT'},\n",
       "  'RetryAttempts': 0}}"
      ]
     },
     "execution_count": 19,
     "metadata": {},
     "output_type": "execute_result"
    }
   ],
   "source": [
    "my_card.list_export_jobs()"
   ]
  },
  {
   "cell_type": "markdown",
   "metadata": {},
   "source": [
    "### 2. Download the exported model card PDF\n",
    "The downloaded PDF is stored in the same directory as this notebook by default.\n",
    "\n",
    "#### Parse the bucket and key of the exported PDF"
   ]
  },
  {
   "cell_type": "code",
   "execution_count": 20,
   "metadata": {},
   "outputs": [],
   "source": [
    "parsed_url = urlparse(pdf_s3_url)\n",
    "pdf_bucket = parsed_url.netloc\n",
    "pdf_key = parsed_url.path.lstrip(\"/\")"
   ]
  },
  {
   "cell_type": "markdown",
   "metadata": {},
   "source": [
    "#### Download"
   ]
  },
  {
   "cell_type": "code",
   "execution_count": 21,
   "metadata": {},
   "outputs": [
    {
     "name": "stdout",
     "output_type": "stream",
     "text": [
      "from-idea-to-prod-model-card-1712686741-041d.pdf is downloaded to \n",
      "/home/sagemaker-user/amazon-sagemaker-examples/sagemaker_model_governance/from-idea-to-prod-model-card-1712686741-041d.pdf\n"
     ]
    }
   ],
   "source": [
    "file_name = parsed_url.path.split(\"/\")[-1]\n",
    "s3.download_file(Filename=file_name, Bucket=pdf_bucket, Key=pdf_key)\n",
    "print(f\"{file_name} is downloaded to \\n{os.path.join(os.getcwd(), file_name)}\")"
   ]
  },
  {
   "cell_type": "markdown",
   "metadata": {},
   "source": [
    "---\n",
    "## Cleanup<a name=\"Cleanup\"></a>\n",
    "Delete the following resources:\n",
    "1. The model card\n",
    "2. The exported model card PDF\n",
    "3. The example binary classification model"
   ]
  },
  {
   "cell_type": "code",
   "execution_count": null,
   "metadata": {},
   "outputs": [],
   "source": [
    "my_card.delete()\n",
    "\n",
    "s3.delete_object(Bucket=pdf_bucket, Key=pdf_key)\n",
    "\n",
    "sagemaker_session.delete_model(model_name)"
   ]
  },
  {
   "attachments": {},
   "cell_type": "markdown",
   "metadata": {},
   "source": [
    "## Notebook CI Test Results\n",
    "\n",
    "This notebook was tested in multiple regions. The test results are as follows, except for us-west-2 which is shown at the top of the notebook.\n",
    "\n",
    "![This us-east-1 badge failed to load. Check your device's internet connectivity, otherwise the service is currently unavailable](https://prod.us-west-2.tcx-beacon.docs.aws.dev/sagemaker-nb/us-east-1/sagemaker_model_governance|model_card.ipynb)\n",
    "\n",
    "![This us-east-2 badge failed to load. Check your device's internet connectivity, otherwise the service is currently unavailable](https://prod.us-west-2.tcx-beacon.docs.aws.dev/sagemaker-nb/us-east-2/sagemaker_model_governance|model_card.ipynb)\n",
    "\n",
    "![This us-west-1 badge failed to load. Check your device's internet connectivity, otherwise the service is currently unavailable](https://prod.us-west-2.tcx-beacon.docs.aws.dev/sagemaker-nb/us-west-1/sagemaker_model_governance|model_card.ipynb)\n",
    "\n",
    "![This ca-central-1 badge failed to load. Check your device's internet connectivity, otherwise the service is currently unavailable](https://prod.us-west-2.tcx-beacon.docs.aws.dev/sagemaker-nb/ca-central-1/sagemaker_model_governance|model_card.ipynb)\n",
    "\n",
    "![This sa-east-1 badge failed to load. Check your device's internet connectivity, otherwise the service is currently unavailable](https://prod.us-west-2.tcx-beacon.docs.aws.dev/sagemaker-nb/sa-east-1/sagemaker_model_governance|model_card.ipynb)\n",
    "\n",
    "![This eu-west-1 badge failed to load. Check your device's internet connectivity, otherwise the service is currently unavailable](https://prod.us-west-2.tcx-beacon.docs.aws.dev/sagemaker-nb/eu-west-1/sagemaker_model_governance|model_card.ipynb)\n",
    "\n",
    "![This eu-west-2 badge failed to load. Check your device's internet connectivity, otherwise the service is currently unavailable](https://prod.us-west-2.tcx-beacon.docs.aws.dev/sagemaker-nb/eu-west-2/sagemaker_model_governance|model_card.ipynb)\n",
    "\n",
    "![This eu-west-3 badge failed to load. Check your device's internet connectivity, otherwise the service is currently unavailable](https://prod.us-west-2.tcx-beacon.docs.aws.dev/sagemaker-nb/eu-west-3/sagemaker_model_governance|model_card.ipynb)\n",
    "\n",
    "![This eu-central-1 badge failed to load. Check your device's internet connectivity, otherwise the service is currently unavailable](https://prod.us-west-2.tcx-beacon.docs.aws.dev/sagemaker-nb/eu-central-1/sagemaker_model_governance|model_card.ipynb)\n",
    "\n",
    "![This eu-north-1 badge failed to load. Check your device's internet connectivity, otherwise the service is currently unavailable](https://prod.us-west-2.tcx-beacon.docs.aws.dev/sagemaker-nb/eu-north-1/sagemaker_model_governance|model_card.ipynb)\n",
    "\n",
    "![This ap-southeast-1 badge failed to load. Check your device's internet connectivity, otherwise the service is currently unavailable](https://prod.us-west-2.tcx-beacon.docs.aws.dev/sagemaker-nb/ap-southeast-1/sagemaker_model_governance|model_card.ipynb)\n",
    "\n",
    "![This ap-southeast-2 badge failed to load. Check your device's internet connectivity, otherwise the service is currently unavailable](https://prod.us-west-2.tcx-beacon.docs.aws.dev/sagemaker-nb/ap-southeast-2/sagemaker_model_governance|model_card.ipynb)\n",
    "\n",
    "![This ap-northeast-1 badge failed to load. Check your device's internet connectivity, otherwise the service is currently unavailable](https://prod.us-west-2.tcx-beacon.docs.aws.dev/sagemaker-nb/ap-northeast-1/sagemaker_model_governance|model_card.ipynb)\n",
    "\n",
    "![This ap-northeast-2 badge failed to load. Check your device's internet connectivity, otherwise the service is currently unavailable](https://prod.us-west-2.tcx-beacon.docs.aws.dev/sagemaker-nb/ap-northeast-2/sagemaker_model_governance|model_card.ipynb)\n",
    "\n",
    "![This ap-south-1 badge failed to load. Check your device's internet connectivity, otherwise the service is currently unavailable](https://prod.us-west-2.tcx-beacon.docs.aws.dev/sagemaker-nb/ap-south-1/sagemaker_model_governance|model_card.ipynb)\n"
   ]
  }
 ],
 "metadata": {
  "instance_type": "ml.t3.medium",
  "kernelspec": {
   "display_name": "Python 3 (ipykernel)",
   "language": "python",
   "name": "python3"
  },
  "language_info": {
   "codemirror_mode": {
    "name": "ipython",
    "version": 3
   },
   "file_extension": ".py",
   "mimetype": "text/x-python",
   "name": "python",
   "nbconvert_exporter": "python",
   "pygments_lexer": "ipython3",
   "version": "3.10.13"
  },
  "vscode": {
   "interpreter": {
    "hash": "1571133684af95a48d70cfb4aef2840ed1e20d7c2d2a63af1685000148425678"
   }
  }
 },
 "nbformat": 4,
 "nbformat_minor": 4
}
